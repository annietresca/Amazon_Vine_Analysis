{
  "nbformat": 4,
  "nbformat_minor": 0,
  "metadata": {
    "colab": {
      "name": "Vine_Review_Analysis.ipynb",
      "provenance": [],
      "collapsed_sections": []
    },
    "kernelspec": {
      "name": "python3",
      "display_name": "Python 3"
    },
    "language_info": {
      "name": "python"
    }
  },
  "cells": [
    {
      "cell_type": "code",
      "execution_count": 1,
      "metadata": {
        "colab": {
          "base_uri": "https://localhost:8080/"
        },
        "id": "54PvCJ5Z9Qof",
        "outputId": "0278e55e-c7db-41d6-e4b0-8506bd0fd3e3"
      },
      "outputs": [
        {
          "output_type": "stream",
          "name": "stdout",
          "text": [
            "\r0% [Working]\r            \rGet:1 http://ppa.launchpad.net/c2d4u.team/c2d4u4.0+/ubuntu bionic InRelease [15.9 kB]\n",
            "\r0% [Connecting to archive.ubuntu.com (91.189.91.38)] [Connecting to security.ub\r0% [Connecting to archive.ubuntu.com (91.189.91.38)] [Connecting to security.ub\r0% [1 InRelease gpgv 15.9 kB] [Connecting to archive.ubuntu.com (91.189.91.38)]\r                                                                               \rHit:2 http://ppa.launchpad.net/cran/libgit2/ubuntu bionic InRelease\n",
            "\r0% [1 InRelease gpgv 15.9 kB] [Connecting to archive.ubuntu.com (91.189.91.38)]\r                                                                               \rGet:3 https://cloud.r-project.org/bin/linux/ubuntu bionic-cran40/ InRelease [3,626 B]\n",
            "\r0% [1 InRelease gpgv 15.9 kB] [Connecting to archive.ubuntu.com (91.189.91.38)]\r0% [1 InRelease gpgv 15.9 kB] [Connecting to archive.ubuntu.com (91.189.91.38)]\r                                                                               \rGet:4 https://developer.download.nvidia.com/compute/cuda/repos/ubuntu1804/x86_64  InRelease [1,581 B]\n",
            "\r0% [1 InRelease gpgv 15.9 kB] [Connecting to archive.ubuntu.com (91.189.91.38)]\r0% [1 InRelease gpgv 15.9 kB] [Connecting to archive.ubuntu.com (91.189.91.38)]\r                                                                               \rHit:5 http://ppa.launchpad.net/deadsnakes/ppa/ubuntu bionic InRelease\n",
            "Hit:6 http://ppa.launchpad.net/graphics-drivers/ppa/ubuntu bionic InRelease\n",
            "Get:7 http://security.ubuntu.com/ubuntu bionic-security InRelease [88.7 kB]\n",
            "Hit:8 http://archive.ubuntu.com/ubuntu bionic InRelease\n",
            "Get:9 http://archive.ubuntu.com/ubuntu bionic-updates InRelease [88.7 kB]\n",
            "Get:10 http://ppa.launchpad.net/c2d4u.team/c2d4u4.0+/ubuntu bionic/main Sources [2,075 kB]\n",
            "Get:11 http://ppa.launchpad.net/c2d4u.team/c2d4u4.0+/ubuntu bionic/main amd64 Packages [1,063 kB]\n",
            "Get:12 http://archive.ubuntu.com/ubuntu bionic-backports InRelease [74.6 kB]\n",
            "Ign:13 https://developer.download.nvidia.com/compute/machine-learning/repos/ubuntu1804/x86_64  InRelease\n",
            "Hit:14 https://developer.download.nvidia.com/compute/machine-learning/repos/ubuntu1804/x86_64  Release\n",
            "Get:15 https://cloud.r-project.org/bin/linux/ubuntu bionic-cran40/ Packages [85.6 kB]\n",
            "Get:16 https://developer.download.nvidia.com/compute/cuda/repos/ubuntu1804/x86_64  Packages [817 kB]\n",
            "Get:17 http://security.ubuntu.com/ubuntu bionic-security/universe amd64 Packages [1,527 kB]\n",
            "Get:18 http://archive.ubuntu.com/ubuntu bionic-updates/universe amd64 Packages [2,304 kB]\n",
            "Get:19 http://security.ubuntu.com/ubuntu bionic-security/main amd64 Packages [2,901 kB]\n",
            "Get:20 http://security.ubuntu.com/ubuntu bionic-security/restricted amd64 Packages [1,063 kB]\n",
            "Get:21 http://archive.ubuntu.com/ubuntu bionic-updates/restricted amd64 Packages [1,105 kB]\n",
            "Get:22 http://archive.ubuntu.com/ubuntu bionic-updates/main amd64 Packages [3,333 kB]\n",
            "Fetched 16.5 MB in 5s (3,204 kB/s)\n",
            "Reading package lists... Done\n"
          ]
        }
      ],
      "source": [
        "import os\n",
        "# Find the latest version of spark 3.0  from http://www.apache.org/dist/spark/ and enter as the spark version\n",
        "# For example:\n",
        "# spark_version = 'spark-3.0.3'\n",
        "spark_version = 'spark-3.3.0'\n",
        "os.environ['SPARK_VERSION']=spark_version\n",
        "\n",
        "# Install Spark and Java\n",
        "!apt-get update\n",
        "!apt-get install openjdk-11-jdk-headless -qq > /dev/null\n",
        "!wget -q http://www.apache.org/dist/spark/$SPARK_VERSION/$SPARK_VERSION-bin-hadoop3.tgz\n",
        "!tar xf $SPARK_VERSION-bin-hadoop3.tgz\n",
        "!pip install -q findspark\n",
        "\n",
        "# Set Environment Variables\n",
        "import os\n",
        "os.environ[\"JAVA_HOME\"] = \"/usr/lib/jvm/java-11-openjdk-amd64\"\n",
        "os.environ[\"SPARK_HOME\"] = f\"/content/{spark_version}-bin-hadoop3\"\n",
        "\n",
        "# Start a SparkSession\n",
        "import findspark\n",
        "findspark.init()"
      ]
    },
    {
      "cell_type": "code",
      "source": [
        "# Download the Postgres driver that will allow Spark to interact with Postgres.\n",
        "!wget https://jdbc.postgresql.org/download/postgresql-42.2.16.jar"
      ],
      "metadata": {
        "colab": {
          "base_uri": "https://localhost:8080/"
        },
        "id": "0dyUsW-09cDz",
        "outputId": "f852b36d-e33e-40fd-dff1-a4c8fe8ba5a6"
      },
      "execution_count": 2,
      "outputs": [
        {
          "output_type": "stream",
          "name": "stdout",
          "text": [
            "--2022-07-22 17:30:50--  https://jdbc.postgresql.org/download/postgresql-42.2.16.jar\n",
            "Resolving jdbc.postgresql.org (jdbc.postgresql.org)... 72.32.157.228, 2001:4800:3e1:1::228\n",
            "Connecting to jdbc.postgresql.org (jdbc.postgresql.org)|72.32.157.228|:443... connected.\n",
            "HTTP request sent, awaiting response... 200 OK\n",
            "Length: 1002883 (979K) [application/java-archive]\n",
            "Saving to: ‘postgresql-42.2.16.jar’\n",
            "\n",
            "postgresql-42.2.16. 100%[===================>] 979.38K  1.60MB/s    in 0.6s    \n",
            "\n",
            "2022-07-22 17:30:51 (1.60 MB/s) - ‘postgresql-42.2.16.jar’ saved [1002883/1002883]\n",
            "\n"
          ]
        }
      ]
    },
    {
      "cell_type": "code",
      "source": [
        "from pyspark.sql import SparkSession\n",
        "spark = SparkSession.builder.appName(\"M16-Amazon-Challenge\").config(\"spark.driver.extraClassPath\",\"/content/postgresql-42.2.16.jar\").getOrCreate()"
      ],
      "metadata": {
        "id": "ocFOo-H99hur"
      },
      "execution_count": 3,
      "outputs": []
    },
    {
      "cell_type": "markdown",
      "source": [
        " Load Data into DataFrame"
      ],
      "metadata": {
        "id": "yGGygOC09o2j"
      }
    },
    {
      "cell_type": "code",
      "source": [
        "from pyspark import SparkFiles\n",
        "url = \"https://s3.amazonaws.com/amazon-reviews-pds/tsv/amazon_reviews_us_Lawn_and_Garden_v1_00.tsv.gz\"\n",
        "spark.sparkContext.addFile(url)\n",
        "df = spark.read.option(\"encoding\", \"UTF-8\").csv(SparkFiles.get(\"\"), sep=\"\\t\", header=True, inferSchema=True)\n",
        "df.show()"
      ],
      "metadata": {
        "colab": {
          "base_uri": "https://localhost:8080/"
        },
        "id": "zdyHE_Fr93lQ",
        "outputId": "844afdcd-dcaf-41f1-f1e2-c7a856a2b296"
      },
      "execution_count": 4,
      "outputs": [
        {
          "output_type": "stream",
          "name": "stdout",
          "text": [
            "+-----------+-----------+--------------+----------+--------------+--------------------+----------------+-----------+-------------+-----------+----+-----------------+--------------------+--------------------+-------------------+\n",
            "|marketplace|customer_id|     review_id|product_id|product_parent|       product_title|product_category|star_rating|helpful_votes|total_votes|vine|verified_purchase|     review_headline|         review_body|        review_date|\n",
            "+-----------+-----------+--------------+----------+--------------+--------------------+----------------+-----------+-------------+-----------+----+-----------------+--------------------+--------------------+-------------------+\n",
            "|         US|   32787517| RED72VWWCOS7S|B008HDQYLQ|     348668413|Garden Weasel Gar...| Lawn and Garden|          1|            2|          8|   N|                Y|            One Star|I don't hate the ...|2015-08-31 00:00:00|\n",
            "|         US|   16374060| RZHWQ208LTEPV|B005OBZBD6|     264704759|10 Foot Mc4 Solar...| Lawn and Garden|          5|            0|          0|   N|                Y|          Five Stars|        worked great|2015-08-31 00:00:00|\n",
            "|         US|    9984817|R37LBC3XAVLYOO|B00RQL8U2G|      95173602|GE String A Long ...| Lawn and Garden|          5|            4|          5|   N|                Y|just what i neede...|just what i neede...|2015-08-31 00:00:00|\n",
            "|         US|   12635190|R3L7XJMA0MVJWC|B0081SBO4Y|     835659279|Key Pair Lawn Wit...| Lawn and Garden|          5|            0|          0|   N|                Y|                Keys|Needed replacemen...|2015-08-31 00:00:00|\n",
            "|         US|   43905102|R2I2GHSI7T1UBN|B008E6OK3U|     539243347|Zodiac R0502300 L...| Lawn and Garden|          1|            5|          6|   N|                Y|       Too expensive|Assuming you don'...|2015-08-31 00:00:00|\n",
            "|         US|   52596997|R2GFFKHK4I6VMX|B00W6NTULY|     337446474|Hirts Gardens Swe...| Lawn and Garden|          5|            0|          0|   N|                Y|                Nice|Beautifully packa...|2015-08-31 00:00:00|\n",
            "|         US|   43871104|R1R0UDX2XAN1S4|B00GXUMYKA|     468857193|AGPtEK 12 PCS Smo...| Lawn and Garden|          4|            0|          0|   N|                Y|These were pretty...|These were pretty...|2015-08-31 00:00:00|\n",
            "|         US|   11346008|R22C8FMBSTFRY8|B005EIX8JS|     125753094|Design Toscano Ea...| Lawn and Garden|          5|            2|          2|   N|                Y|Kids love it. WIs...|Its in the center...|2015-08-31 00:00:00|\n",
            "|         US|   49206471|R118NNIQ75XPGO|B000HJBKMQ|     834273114|TERRO T300 Liquid...| Lawn and Garden|          3|            0|          0|   N|                Y|      A little messy|The ants were att...|2015-08-31 00:00:00|\n",
            "|         US|   37596267|R30HYXHZQ49621|B004LY59V6|     612086079|BLACK+DECKER LBXR...| Lawn and Garden|          2|            0|          0|   N|                Y|Does not hold a c...|This is advertise...|2015-08-31 00:00:00|\n",
            "|         US|   31554283|R3EMLKY0GF1E90|B00CAVM85M|     280334010|Reach 'n Spray Pe...| Lawn and Garden|          5|            0|          0|   N|                Y|          Five Stars|Well made product...|2015-08-31 00:00:00|\n",
            "|         US|   43211735|R23BX7EGJMGQJR|B00DP6X1LG|     233116679|Puro-Kleen Ultra-...| Lawn and Garden|          5|            1|          2|   N|                Y|It's easy to cut ...|I used this for a...|2015-08-31 00:00:00|\n",
            "|         US|   25705116|R2Z4B6SDEAZF6E|B00025H2PY|     592807498|Diatomaceous Eart...| Lawn and Garden|          5|            0|          0|   N|                Y|          Five Stars|Great stuff. Gets...|2015-08-31 00:00:00|\n",
            "|         US|   47041108|R35289PGJERP5J|B0079GHJXY|     408290044|Perky-Pet 312C Pa...| Lawn and Garden|          5|            0|          0|   N|                Y|          Five Stars|   Very good quality|2015-08-31 00:00:00|\n",
            "|         US|    1534667|R39BPRMDKKIZL2|B004HFJ762|     404737140|Crossbow Dow Spec...| Lawn and Garden|          1|            4|          6|   N|                Y|Wrong Product- No...|This product was ...|2015-08-31 00:00:00|\n",
            "|         US|   52287759| R6WFPPBS1DZMG|B00004RAGL|     773636542|Apex REM 15 15-Fo...| Lawn and Garden|          5|            0|          0|   N|                Y|dehumidifier drai...|the hose worked w...|2015-08-31 00:00:00|\n",
            "|         US|   37010286| RK72M0ZBV9YLS|B010PWBNNK|     461072629|Elucto Electric B...| Lawn and Garden|          1|            3|          3|   N|                Y|   not easy it seems|I haven't killed ...|2015-08-31 00:00:00|\n",
            "|         US|   30576559| RX5G150AUWRDJ|B00T77AWY6|     365662076|Ohuhu® 100 Ft Exp...| Lawn and Garden|          1|            0|          0|   N|                Y|          Five Stars|I m very disappoi...|2015-08-31 00:00:00|\n",
            "|         US|   10291713|R1TMSZWIT21A31|B000UJH6HQ|     228393894|Toro 53746 Drip B...| Lawn and Garden|          3|            1|          2|   N|                Y|     Could be better|this is the fourt...|2015-08-31 00:00:00|\n",
            "|         US|   50656780|R2FURVPW763CIM|B000HJBKMQ|     834273114|TERRO T300 Liquid...| Lawn and Garden|          5|            0|          0|   N|                Y|Sugar Ants are ho...|Best thing you ca...|2015-08-31 00:00:00|\n",
            "+-----------+-----------+--------------+----------+--------------+--------------------+----------------+-----------+-------------+-----------+----+-----------------+--------------------+--------------------+-------------------+\n",
            "only showing top 20 rows\n",
            "\n"
          ]
        }
      ]
    },
    {
      "cell_type": "code",
      "source": [
        "df.count()"
      ],
      "metadata": {
        "colab": {
          "base_uri": "https://localhost:8080/"
        },
        "id": "f0yiZoD5-LBg",
        "outputId": "6cecf5c9-e25d-406d-e164-df6d34142eba"
      },
      "execution_count": 5,
      "outputs": [
        {
          "output_type": "execute_result",
          "data": {
            "text/plain": [
              "2557288"
            ]
          },
          "metadata": {},
          "execution_count": 5
        }
      ]
    },
    {
      "cell_type": "code",
      "source": [
        "from pyspark.sql.functions import to_date\n",
        "# Read in the Review dataset as a DataFrame\n",
        "vine_reviews_clean_df= df.dropna()"
      ],
      "metadata": {
        "id": "KU-sQmgw-XFr"
      },
      "execution_count": 6,
      "outputs": []
    },
    {
      "cell_type": "code",
      "source": [
        "vine_df = vine_reviews_clean_df.select([\"review_id\", \"star_rating\", \"helpful_votes\", \"total_votes\", \"vine\", \"verified_purchase\"])\n",
        "vine_df.show()"
      ],
      "metadata": {
        "colab": {
          "base_uri": "https://localhost:8080/"
        },
        "id": "9PutDsxM-mAG",
        "outputId": "8f36deb3-3e4a-4ecb-8971-eeb5ba64ceb6"
      },
      "execution_count": 7,
      "outputs": [
        {
          "output_type": "stream",
          "name": "stdout",
          "text": [
            "+--------------+-----------+-------------+-----------+----+-----------------+\n",
            "|     review_id|star_rating|helpful_votes|total_votes|vine|verified_purchase|\n",
            "+--------------+-----------+-------------+-----------+----+-----------------+\n",
            "| RED72VWWCOS7S|          1|            2|          8|   N|                Y|\n",
            "| RZHWQ208LTEPV|          5|            0|          0|   N|                Y|\n",
            "|R37LBC3XAVLYOO|          5|            4|          5|   N|                Y|\n",
            "|R3L7XJMA0MVJWC|          5|            0|          0|   N|                Y|\n",
            "|R2I2GHSI7T1UBN|          1|            5|          6|   N|                Y|\n",
            "|R2GFFKHK4I6VMX|          5|            0|          0|   N|                Y|\n",
            "|R1R0UDX2XAN1S4|          4|            0|          0|   N|                Y|\n",
            "|R22C8FMBSTFRY8|          5|            2|          2|   N|                Y|\n",
            "|R118NNIQ75XPGO|          3|            0|          0|   N|                Y|\n",
            "|R30HYXHZQ49621|          2|            0|          0|   N|                Y|\n",
            "|R3EMLKY0GF1E90|          5|            0|          0|   N|                Y|\n",
            "|R23BX7EGJMGQJR|          5|            1|          2|   N|                Y|\n",
            "|R2Z4B6SDEAZF6E|          5|            0|          0|   N|                Y|\n",
            "|R35289PGJERP5J|          5|            0|          0|   N|                Y|\n",
            "|R39BPRMDKKIZL2|          1|            4|          6|   N|                Y|\n",
            "| R6WFPPBS1DZMG|          5|            0|          0|   N|                Y|\n",
            "| RK72M0ZBV9YLS|          1|            3|          3|   N|                Y|\n",
            "| RX5G150AUWRDJ|          1|            0|          0|   N|                Y|\n",
            "|R1TMSZWIT21A31|          3|            1|          2|   N|                Y|\n",
            "|R2FURVPW763CIM|          5|            0|          0|   N|                Y|\n",
            "+--------------+-----------+-------------+-----------+----+-----------------+\n",
            "only showing top 20 rows\n",
            "\n"
          ]
        }
      ]
    },
    {
      "cell_type": "code",
      "source": [
        "# Filtered for more than 20 total votes\n",
        "vine_filtered_votes_df = vine_df.filter(\"total_votes>=20\")\n",
        "vine_filtered_votes_df.show()"
      ],
      "metadata": {
        "colab": {
          "base_uri": "https://localhost:8080/"
        },
        "id": "0lYacnCN-1wt",
        "outputId": "9d079768-88c5-46ec-ee8a-4f8a66a6029f"
      },
      "execution_count": 8,
      "outputs": [
        {
          "output_type": "stream",
          "name": "stdout",
          "text": [
            "+--------------+-----------+-------------+-----------+----+-----------------+\n",
            "|     review_id|star_rating|helpful_votes|total_votes|vine|verified_purchase|\n",
            "+--------------+-----------+-------------+-----------+----+-----------------+\n",
            "| RQQ3KVTU5TJ4I|          5|           24|         29|   N|                Y|\n",
            "|R3FELXWV9T5CWE|          2|           22|         24|   N|                Y|\n",
            "| ROBYK6EZYK398|          5|           29|         30|   N|                Y|\n",
            "|R2RKCSAG6GBA4A|          1|            8|         28|   N|                Y|\n",
            "|R2YVBBR6NXIA4V|          5|           25|         28|   N|                N|\n",
            "|R2AVTBDIVG2AW4|          5|           26|         26|   N|                N|\n",
            "|R1Z2LNN3FANMTO|          1|           20|         24|   N|                N|\n",
            "|  RLNULBKRWNNR|          5|           42|         43|   N|                Y|\n",
            "| R9QNQUL94RX1F|          3|           27|         33|   N|                Y|\n",
            "| RTULFZTUS1VBP|          5|           51|         52|   N|                Y|\n",
            "|R1BM9RBQWI62O2|          5|           43|         60|   N|                N|\n",
            "| RWB6V9IYCOJFX|          4|           39|         41|   N|                Y|\n",
            "|R15FA7GCXKC7YE|          1|           40|         41|   N|                Y|\n",
            "|R2OQAI6AV8AH8Z|          1|           19|         32|   N|                Y|\n",
            "|R2XD5CWZ4Z87ZR|          5|           19|         25|   N|                Y|\n",
            "|R3LLBXVCEY5JKB|          1|           33|         35|   N|                Y|\n",
            "| RQWM8U7YH93TT|          4|           92|         93|   N|                N|\n",
            "|R2DEO6P7BEZ9UI|          5|           38|         38|   N|                Y|\n",
            "|R2CKYIHUSK3IEP|          1|           74|         88|   N|                Y|\n",
            "| RY0DMUQKNF8MT|          5|           32|         33|   N|                Y|\n",
            "+--------------+-----------+-------------+-----------+----+-----------------+\n",
            "only showing top 20 rows\n",
            "\n"
          ]
        }
      ]
    },
    {
      "cell_type": "code",
      "source": [
        "# Filtered by more than 20 total votes and more than 50% helpful\n",
        "vine_helpful_by_total_df = vine_filtered_votes_df.filter(\"(helpful_votes/total_votes)>=0.5\")\n",
        "vine_helpful_by_total_df.show()"
      ],
      "metadata": {
        "colab": {
          "base_uri": "https://localhost:8080/"
        },
        "id": "KPWBqPTr_JQb",
        "outputId": "b293bafd-263b-46f3-c551-b76097326bf4"
      },
      "execution_count": 9,
      "outputs": [
        {
          "output_type": "stream",
          "name": "stdout",
          "text": [
            "+--------------+-----------+-------------+-----------+----+-----------------+\n",
            "|     review_id|star_rating|helpful_votes|total_votes|vine|verified_purchase|\n",
            "+--------------+-----------+-------------+-----------+----+-----------------+\n",
            "| RQQ3KVTU5TJ4I|          5|           24|         29|   N|                Y|\n",
            "|R3FELXWV9T5CWE|          2|           22|         24|   N|                Y|\n",
            "| ROBYK6EZYK398|          5|           29|         30|   N|                Y|\n",
            "|R2YVBBR6NXIA4V|          5|           25|         28|   N|                N|\n",
            "|R2AVTBDIVG2AW4|          5|           26|         26|   N|                N|\n",
            "|R1Z2LNN3FANMTO|          1|           20|         24|   N|                N|\n",
            "|  RLNULBKRWNNR|          5|           42|         43|   N|                Y|\n",
            "| R9QNQUL94RX1F|          3|           27|         33|   N|                Y|\n",
            "| RTULFZTUS1VBP|          5|           51|         52|   N|                Y|\n",
            "|R1BM9RBQWI62O2|          5|           43|         60|   N|                N|\n",
            "| RWB6V9IYCOJFX|          4|           39|         41|   N|                Y|\n",
            "|R15FA7GCXKC7YE|          1|           40|         41|   N|                Y|\n",
            "|R2OQAI6AV8AH8Z|          1|           19|         32|   N|                Y|\n",
            "|R2XD5CWZ4Z87ZR|          5|           19|         25|   N|                Y|\n",
            "|R3LLBXVCEY5JKB|          1|           33|         35|   N|                Y|\n",
            "| RQWM8U7YH93TT|          4|           92|         93|   N|                N|\n",
            "|R2DEO6P7BEZ9UI|          5|           38|         38|   N|                Y|\n",
            "|R2CKYIHUSK3IEP|          1|           74|         88|   N|                Y|\n",
            "| RY0DMUQKNF8MT|          5|           32|         33|   N|                Y|\n",
            "|R33XCAJDTPOUQS|          5|           22|         23|   N|                Y|\n",
            "+--------------+-----------+-------------+-----------+----+-----------------+\n",
            "only showing top 20 rows\n",
            "\n"
          ]
        }
      ]
    },
    {
      "cell_type": "code",
      "source": [
        "# Filtered for paid reviews more than 50% helpful\n",
        "vine_paid_helpful_df = vine_helpful_by_total_df.filter(\"vine == 'Y'\")\n",
        "vine_paid_helpful_df.show()"
      ],
      "metadata": {
        "colab": {
          "base_uri": "https://localhost:8080/"
        },
        "id": "vr1qCXkG_gFU",
        "outputId": "10e04057-1bfa-415d-828e-44053b328f64"
      },
      "execution_count": 10,
      "outputs": [
        {
          "output_type": "stream",
          "name": "stdout",
          "text": [
            "+--------------+-----------+-------------+-----------+----+-----------------+\n",
            "|     review_id|star_rating|helpful_votes|total_votes|vine|verified_purchase|\n",
            "+--------------+-----------+-------------+-----------+----+-----------------+\n",
            "|R28DXTC3JQ9IY1|          4|           24|         26|   Y|                N|\n",
            "|R3AFZKLQXATHBU|          5|           44|         49|   Y|                N|\n",
            "|R2RUUF2JPJPC0E|          4|           20|         22|   Y|                N|\n",
            "| RFZ2WUH4248AB|          2|           26|         27|   Y|                N|\n",
            "|R1Q4LVHIFOWYFR|          5|           23|         28|   Y|                N|\n",
            "| R4YEPTQED3X1Q|          5|           19|         20|   Y|                N|\n",
            "|R2Z7C8YCRSC9DP|          5|           22|         22|   Y|                N|\n",
            "|R3J8OI5CB74P5K|          1|           22|         25|   Y|                N|\n",
            "| RH39LMKN6AZDC|          5|           33|         40|   Y|                N|\n",
            "| R8RD8K0ESJSRD|          5|           21|         21|   Y|                N|\n",
            "| R6P04SW0Z1FCR|          5|           20|         25|   Y|                N|\n",
            "|R32LMNP5ZU2F6G|          3|           33|         37|   Y|                N|\n",
            "|R21L9F1CIGVQ7H|          5|           35|         45|   Y|                N|\n",
            "|R3407EU7EKOUMA|          4|           31|         40|   Y|                N|\n",
            "| RDFMCB5Q7U0UW|          4|          152|        155|   Y|                N|\n",
            "|R2U38GEWPJG6JI|          5|           63|         66|   Y|                N|\n",
            "|R1E24YIQRGSP10|          5|           30|         40|   Y|                N|\n",
            "|R3L7PBHQGA3LB0|          3|           14|         20|   Y|                N|\n",
            "| R91BX5ZLRONPJ|          4|           16|         21|   Y|                N|\n",
            "|R1P31XRPGIF50W|          4|           33|         38|   Y|                N|\n",
            "+--------------+-----------+-------------+-----------+----+-----------------+\n",
            "only showing top 20 rows\n",
            "\n"
          ]
        }
      ]
    },
    {
      "cell_type": "code",
      "source": [
        "# Filtered for non-paid reviews more than 50% helpful\n",
        "vine_unpaid_helpful_df = vine_helpful_by_total_df.filter(\"vine == 'N'\")\n",
        "vine_unpaid_helpful_df.show()"
      ],
      "metadata": {
        "colab": {
          "base_uri": "https://localhost:8080/"
        },
        "id": "DWM6QGWk_x9C",
        "outputId": "beb2237e-8c19-42d6-8e8c-4cbadfc290bf"
      },
      "execution_count": 11,
      "outputs": [
        {
          "output_type": "stream",
          "name": "stdout",
          "text": [
            "+--------------+-----------+-------------+-----------+----+-----------------+\n",
            "|     review_id|star_rating|helpful_votes|total_votes|vine|verified_purchase|\n",
            "+--------------+-----------+-------------+-----------+----+-----------------+\n",
            "| RQQ3KVTU5TJ4I|          5|           24|         29|   N|                Y|\n",
            "|R3FELXWV9T5CWE|          2|           22|         24|   N|                Y|\n",
            "| ROBYK6EZYK398|          5|           29|         30|   N|                Y|\n",
            "|R2YVBBR6NXIA4V|          5|           25|         28|   N|                N|\n",
            "|R2AVTBDIVG2AW4|          5|           26|         26|   N|                N|\n",
            "|R1Z2LNN3FANMTO|          1|           20|         24|   N|                N|\n",
            "|  RLNULBKRWNNR|          5|           42|         43|   N|                Y|\n",
            "| R9QNQUL94RX1F|          3|           27|         33|   N|                Y|\n",
            "| RTULFZTUS1VBP|          5|           51|         52|   N|                Y|\n",
            "|R1BM9RBQWI62O2|          5|           43|         60|   N|                N|\n",
            "| RWB6V9IYCOJFX|          4|           39|         41|   N|                Y|\n",
            "|R15FA7GCXKC7YE|          1|           40|         41|   N|                Y|\n",
            "|R2OQAI6AV8AH8Z|          1|           19|         32|   N|                Y|\n",
            "|R2XD5CWZ4Z87ZR|          5|           19|         25|   N|                Y|\n",
            "|R3LLBXVCEY5JKB|          1|           33|         35|   N|                Y|\n",
            "| RQWM8U7YH93TT|          4|           92|         93|   N|                N|\n",
            "|R2DEO6P7BEZ9UI|          5|           38|         38|   N|                Y|\n",
            "|R2CKYIHUSK3IEP|          1|           74|         88|   N|                Y|\n",
            "| RY0DMUQKNF8MT|          5|           32|         33|   N|                Y|\n",
            "|R33XCAJDTPOUQS|          5|           22|         23|   N|                Y|\n",
            "+--------------+-----------+-------------+-----------+----+-----------------+\n",
            "only showing top 20 rows\n",
            "\n"
          ]
        }
      ]
    },
    {
      "cell_type": "code",
      "source": [
        "# Total number of reviews\n",
        "total_reviews = vine_helpful_by_total_df.count()\n",
        "total_reviews"
      ],
      "metadata": {
        "colab": {
          "base_uri": "https://localhost:8080/"
        },
        "id": "_kEIHHwkABSF",
        "outputId": "a1cb7aad-0465-4f13-a840-ff3ff67d398c"
      },
      "execution_count": 12,
      "outputs": [
        {
          "output_type": "execute_result",
          "data": {
            "text/plain": [
              "49088"
            ]
          },
          "metadata": {},
          "execution_count": 12
        }
      ]
    },
    {
      "cell_type": "code",
      "source": [
        "# Total paid reviews\n",
        "paid_reviews_df = vine_helpful_by_total_df.filter(\"vine == 'Y'\")\n",
        "paid_reviews_ct = paid_reviews_df.count()\n",
        "paid_reviews_ct"
      ],
      "metadata": {
        "colab": {
          "base_uri": "https://localhost:8080/"
        },
        "id": "__0k8Kj5AbPy",
        "outputId": "b9559217-ab4f-4d98-a3fd-df74ff355727"
      },
      "execution_count": 13,
      "outputs": [
        {
          "output_type": "execute_result",
          "data": {
            "text/plain": [
              "386"
            ]
          },
          "metadata": {},
          "execution_count": 13
        }
      ]
    },
    {
      "cell_type": "code",
      "source": [
        "# Total unpaid reviews\n",
        "unpaid_reviews_df = vine_helpful_by_total_df.filter(\"vine == 'N'\")\n",
        "unpaid_reviews_ct = unpaid_reviews_df.count()\n",
        "unpaid_reviews_ct"
      ],
      "metadata": {
        "colab": {
          "base_uri": "https://localhost:8080/"
        },
        "id": "Z6tT2GH5A3Oa",
        "outputId": "d5c87e6d-e4d9-4fbe-f81e-b179d0f8ea47"
      },
      "execution_count": 14,
      "outputs": [
        {
          "output_type": "execute_result",
          "data": {
            "text/plain": [
              "48702"
            ]
          },
          "metadata": {},
          "execution_count": 14
        }
      ]
    },
    {
      "cell_type": "code",
      "source": [
        "# Total five star reviews\n",
        "five_star_reviews_df = vine_helpful_by_total_df.filter(\"star_rating == 5\")\n",
        "five_star_reviews_ct = five_star_reviews_df.count()\n",
        "five_star_reviews_ct"
      ],
      "metadata": {
        "colab": {
          "base_uri": "https://localhost:8080/"
        },
        "id": "EpeX4EjJBI-M",
        "outputId": "520b18c4-104d-4921-9a73-a7484691bc7b"
      },
      "execution_count": 15,
      "outputs": [
        {
          "output_type": "execute_result",
          "data": {
            "text/plain": [
              "24192"
            ]
          },
          "metadata": {},
          "execution_count": 15
        }
      ]
    },
    {
      "cell_type": "code",
      "source": [
        "# Total five star paid reviews\n",
        "five_star_paid_reviews_df = paid_reviews_df.filter(\"star_rating == 5\")\n",
        "five_star_paid_reviews_ct = five_star_paid_reviews_df.count()\n",
        "five_star_paid_reviews_ct"
      ],
      "metadata": {
        "colab": {
          "base_uri": "https://localhost:8080/"
        },
        "id": "nYPV5zjXBftF",
        "outputId": "e95e8901-0818-4bfc-9321-b671d113d21c"
      },
      "execution_count": 16,
      "outputs": [
        {
          "output_type": "execute_result",
          "data": {
            "text/plain": [
              "176"
            ]
          },
          "metadata": {},
          "execution_count": 16
        }
      ]
    },
    {
      "cell_type": "code",
      "source": [
        "# Total five star unpaid reviews\n",
        "five_star_unpaid_reviews_df = unpaid_reviews_df.filter(\"star_rating == 5\")\n",
        "five_star_unpaid_reviews_ct = five_star_unpaid_reviews_df.count()\n",
        "five_star_unpaid_reviews_ct"
      ],
      "metadata": {
        "colab": {
          "base_uri": "https://localhost:8080/"
        },
        "id": "cGsOH82mB6QT",
        "outputId": "62a888cd-7d72-42b4-ad19-93b6d1f12f05"
      },
      "execution_count": 17,
      "outputs": [
        {
          "output_type": "execute_result",
          "data": {
            "text/plain": [
              "24016"
            ]
          },
          "metadata": {},
          "execution_count": 17
        }
      ]
    },
    {
      "cell_type": "code",
      "source": [
        "# Five star paid reviews as % of total paid reviews\n",
        "paid_five_star_paid_reviews_paid = (five_star_paid_reviews_ct/paid_reviews_ct)* 100\n",
        "round(paid_five_star_paid_reviews_paid, 3)"
      ],
      "metadata": {
        "colab": {
          "base_uri": "https://localhost:8080/"
        },
        "id": "zgRSb0SDCBtJ",
        "outputId": "ee4e87ec-3482-48ae-e566-3551344718ce"
      },
      "execution_count": 18,
      "outputs": [
        {
          "output_type": "execute_result",
          "data": {
            "text/plain": [
              "45.596"
            ]
          },
          "metadata": {},
          "execution_count": 18
        }
      ]
    },
    {
      "cell_type": "code",
      "source": [
        "# Paid reviews as % of total five star reviews\n",
        "paid_five_star_reviews_total = (five_star_paid_reviews_ct/five_star_reviews_ct) * 100\n",
        "round(paid_five_star_reviews_total, 3)"
      ],
      "metadata": {
        "colab": {
          "base_uri": "https://localhost:8080/"
        },
        "id": "hdfsAxN6Cp2j",
        "outputId": "aa35ce6c-0b2a-43bc-d4c6-475222ec80ff"
      },
      "execution_count": 19,
      "outputs": [
        {
          "output_type": "execute_result",
          "data": {
            "text/plain": [
              "0.728"
            ]
          },
          "metadata": {},
          "execution_count": 19
        }
      ]
    },
    {
      "cell_type": "code",
      "source": [
        "# Five star unpaid reviews as % of total unpaid reviews\n",
        "unpaid_five_star_reviews_unpaid = (five_star_unpaid_reviews_ct/unpaid_reviews_ct) * 100\n",
        "round(unpaid_five_star_reviews_unpaid, 3)"
      ],
      "metadata": {
        "colab": {
          "base_uri": "https://localhost:8080/"
        },
        "id": "315083lSDIxL",
        "outputId": "a8986939-fe18-4181-d16d-bcc8a3112e59"
      },
      "execution_count": 20,
      "outputs": [
        {
          "output_type": "execute_result",
          "data": {
            "text/plain": [
              "49.312"
            ]
          },
          "metadata": {},
          "execution_count": 20
        }
      ]
    },
    {
      "cell_type": "code",
      "source": [
        "# Unpaid five star reviews as % of total five star reviews\n",
        "unpaid_five_star_reviews_total = (five_star_unpaid_reviews_ct/five_star_unpaid_reviews_ct) * 100\n",
        "round(unpaid_five_star_reviews_total, 3)"
      ],
      "metadata": {
        "colab": {
          "base_uri": "https://localhost:8080/"
        },
        "id": "KsIMKdF1Dd33",
        "outputId": "db1c1f64-2e62-4c3a-ff18-d4c6fd246d43"
      },
      "execution_count": 22,
      "outputs": [
        {
          "output_type": "execute_result",
          "data": {
            "text/plain": [
              "100.0"
            ]
          },
          "metadata": {},
          "execution_count": 22
        }
      ]
    }
  ]
}